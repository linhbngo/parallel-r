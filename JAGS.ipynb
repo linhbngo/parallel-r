{
 "cells": [
  {
   "cell_type": "markdown",
   "metadata": {
    "collapsed": false
   },
   "source": [
    "JAGS: Just Another Gibb Sampler\n",
    "\n",
    "Adapted from https://users.soe.ucsc.edu/~draper/eBay-Google-2013-parallel-rjags-example.txt\n",
    "Some helpers and example usage of rjags in parallel mode in R. The output from the foreach functions below give an mcmc object that can be manipulated with the coda package, which is automatically loaded with rjags.\n",
    "\n",
    "The base code is from: http://andrewgelman.com/2011/07/parallel-jags-rngs/ with some updates and a nice combine function. \n",
    "\n",
    "This notebook version comes with instruction on installling the required packages in a non-root environment on Clemson University, and some modifications on the initial source code to deal with the setting of non-variable node. \n",
    "\n",
    "To set up JAGS, download the software, and install it into a predefined directory, in this case */home/lngo/software*:\n",
    "<code>\n",
    "module load gcc/4.8.1\n",
    "tar xzf JAGS-4.2.0.tar.gz\n",
    "cd JAGS-4.2.0\n",
    "./configure --prefix=/home/lngo/software\n",
    "make\n",
    "make install\n",
    "</code>\n",
    "\n",
    "Prior to the launching of the Jupyter server, the Linux shell environment needs to load the environment variables PKG_CONFIG_PATH, which points to */home/lngo/software/JAGS-4.2.0/lib/pkgconfig*, and LD_LIBRARY_PATH, which contains */home/lngo/software/JAGS-4.2.0/lib/*. \n",
    "\n",
    "This can be accomplished by creating a file called R_jupyter.sh that contains the following lines:\n",
    "<code>\n",
    "#!/bin/bash\n",
    "export PKG_CONFIG_PATH=\"/home/lngo/software/JAG-4.2.0/lib/pkgconfig\"\n",
    "export LD_LIBRARY_PATH=\"$LD_LIBRARY_PATH:/home/lngo/software/JAG-4.2.0/lib\"\n",
    "</code>\n",
    "\n",
    "Users then can insert a single line into *.bashrc* to enable this environment:\n",
    "<code>\n",
    "source R_jupyter.sh\n",
    "</code>"
   ]
  },
  {
   "cell_type": "code",
   "execution_count": 1,
   "metadata": {
    "collapsed": false
   },
   "outputs": [
    {
     "name": "stderr",
     "output_type": "stream",
     "text": [
      "system (cmd0): /software/anaconda3/2.5.0/envs/R/lib/R/bin/R CMD INSTALL\n",
      "foundpkgs: rjags, doParallel, random, /local_scratch/pbs.4623091.pbs02/Rtmpwt3cEi/downloaded_packages/rjags_4-6.tar.gz, /local_scratch/pbs.4623091.pbs02/Rtmpwt3cEi/downloaded_packages/doParallel_1.0.10.tar.gz, /local_scratch/pbs.4623091.pbs02/Rtmpwt3cEi/downloaded_packages/random_0.2.5.tar.gz\n",
      "files: /local_scratch/pbs.4623091.pbs02/Rtmpwt3cEi/downloaded_packages/rjags_4-6.tar.gz, \n",
      "\t/local_scratch/pbs.4623091.pbs02/Rtmpwt3cEi/downloaded_packages/doParallel_1.0.10.tar.gz, \n",
      "\t/local_scratch/pbs.4623091.pbs02/Rtmpwt3cEi/downloaded_packages/random_0.2.5.tar.gz\n",
      "1): succeeded '/software/anaconda3/2.5.0/envs/R/lib/R/bin/R CMD INSTALL -l '/home/lngo/R_libs' /local_scratch/pbs.4623091.pbs02/Rtmpwt3cEi/downloaded_packages/rjags_4-6.tar.gz'\n",
      "2): succeeded '/software/anaconda3/2.5.0/envs/R/lib/R/bin/R CMD INSTALL -l '/home/lngo/R_libs' /local_scratch/pbs.4623091.pbs02/Rtmpwt3cEi/downloaded_packages/doParallel_1.0.10.tar.gz'\n",
      "3): succeeded '/software/anaconda3/2.5.0/envs/R/lib/R/bin/R CMD INSTALL -l '/home/lngo/R_libs' /local_scratch/pbs.4623091.pbs02/Rtmpwt3cEi/downloaded_packages/random_0.2.5.tar.gz'\n"
     ]
    }
   ],
   "source": [
    "# Second, install the following packages into a non-root directory, in this case /home/lngo/R_libs\n",
    "#  doParallel\n",
    "#  rjags\n",
    "#  random\n",
    "\n",
    "install.packages(c(\"rjags\",\"doParallel\",\"random\"), \n",
    "                 lib=\"/home/lngo/R_libs\", \n",
    "                 repos='http://cran.us.r-project.org',\n",
    "                 verbose=TRUE)"
   ]
  },
  {
   "cell_type": "code",
   "execution_count": 2,
   "metadata": {
    "collapsed": false
   },
   "outputs": [
    {
     "name": "stderr",
     "output_type": "stream",
     "text": [
      "Loading required package: foreach\n",
      "Loading required package: iterators\n",
      "Loading required package: parallel\n",
      "Linked to JAGS 4.2.0\n",
      "Loaded modules: basemod,bugs\n"
     ]
    }
   ],
   "source": [
    "# Third, load the installed library. Note that because these libraries are not installed into a default location, the \n",
    "# lib parameter within library also needs to be specified\n",
    "\n",
    "library(doParallel,lib=\"/home/lngo/R_libs\")\n",
    "library(coda,lib=\"/home/lngo/R_libs\")\n",
    "library(rjags,lib=\"/home/lngo/R_libs\")\n",
    "library(random,lib=\"/home/lngo/R_libs\")"
   ]
  },
  {
   "cell_type": "code",
   "execution_count": 3,
   "metadata": {
    "collapsed": true
   },
   "outputs": [],
   "source": [
    "# Function to generate the initial values and random seeds for each model. tau = 0.05 in old version\n",
    "nb10.inits.1 <- function( ) {\n",
    "  return( list( mu = 404.59, nu = 5.0, y.new = 400.0, \n",
    "    .RNG.name = \"lecuyer::RngStream\", \n",
    "    .RNG.seed = randomNumbers( n = 1, min = 1, max = 1e+06, col = 1 ) ) )\n",
    "}\n",
    "# Data to use\n",
    "nb10.data.1 <- list( \n",
    "  y = c( 409., 400., 406., 399., 402., 406., 401., 403., 401., 403.,\n",
    "         398., 403., 407., 402., 401., 399., 400., 401., 405., 402., \n",
    "         408., 399., 399., 402., 399., 397., 407., 401., 399., 401., \n",
    "         403., 400., 410., 401., 407., 423., 406., 406., 402., 405., \n",
    "         405., 409., 399., 402., 407., 406., 413., 409., 404., 402., \n",
    "         404., 406., 407., 405., 411., 410., 410., 410., 401., 402., \n",
    "         404., 405., 392., 407., 406., 404., 403., 408., 404., 407., \n",
    "         412., 406., 409., 400., 408., 404., 401., 404., 408., 406., \n",
    "         408., 406., 401., 412., 393., 437., 418., 415., 404., 401., \n",
    "         401., 407., 412., 375., 409., 406., 398., 406., 403., 404.), \n",
    "  n = 100 )\n",
    "\n",
    "# Helper function to combine multiple mcmc lists into a single one. \n",
    "mcmc.combine <- function( ... ) {\n",
    "  return( as.mcmc.list( sapply( list( ... ), mcmc ) ) )\n",
    "}"
   ]
  },
  {
   "cell_type": "code",
   "execution_count": 4,
   "metadata": {
    "collapsed": false
   },
   "outputs": [
    {
     "name": "stderr",
     "output_type": "stream",
     "text": [
      "module lecuyer loaded\n"
     ]
    },
    {
     "name": "stdout",
     "output_type": "stream",
     "text": [
      "Compiling model graph\n",
      "   Resolving undeclared variables\n",
      "   Allocating nodes\n",
      "Graph information:\n",
      "   Observed stochastic nodes: 100\n",
      "   Unobserved stochastic nodes: 3\n",
      "   Total graph size: 112\n",
      "\n"
     ]
    },
    {
     "name": "stderr",
     "output_type": "stream",
     "text": [
      "Warning message:\n",
      "In jags.model(data = nb10.data.1, file = \"nb10-model-1.txt\", inits = nb10.inits.1): Unused initial value for \"nu\" in chain 1"
     ]
    },
    {
     "name": "stdout",
     "output_type": "stream",
     "text": [
      "Initializing model\n",
      "\n"
     ]
    },
    {
     "name": "stderr",
     "output_type": "stream",
     "text": [
      "Warning message:\n",
      "In jags.samples(model, variable.names, n.iter, thin, type = \"trace\", : Failed to set trace monitor for nu\n",
      "Variable nu not found\n"
     ]
    }
   ],
   "source": [
    "# Single-threaded run\n",
    "iters <- 100000\n",
    "time.1 <- system.time(\n",
    "  jags.singlesample <- foreach( i = 1:1, .combine = \"mcmc.combine\", \n",
    "    .multicombine = TRUE) %do% {\n",
    "    load.module(\"lecuyer\")\n",
    "    model.jags <- jags.model( data = nb10.data.1, file = \"nb10-model-1.txt\", \n",
    "      inits = nb10.inits.1 )\n",
    "    result <- coda.samples( model.jags, variable.names = c(\"mu\",\"sigma\",\"nu\", \"y.new\"), n.iter = iters )\n",
    "    return( result )\n",
    "  }\n",
    ")"
   ]
  },
  {
   "cell_type": "code",
   "execution_count": 5,
   "metadata": {
    "collapsed": true
   },
   "outputs": [],
   "source": [
    "registerDoParallel(2) \n",
    "iters <- 50000\n",
    "\n",
    "time.2 <- system.time(\n",
    "  jags.parsamples.2 <- foreach( i = 1:getDoParWorkers( ), .inorder = FALSE, \n",
    "    .packages = c( 'rjags', 'random' ), .combine = \"mcmc.combine\", \n",
    "    .multicombine = TRUE ) %dopar% {\n",
    "      load.module( \"lecuyer\" )\n",
    "      model.file <- \"nb10-model-1.txt\"\n",
    "      model.jags <- jags.model(data = nb10.data.1,file = model.file,inits = nb10.inits.1)\n",
    "      result <- coda.samples( model.jags, variable.names = c(\"mu\",\"sigma\",\"nu\",\"y.new\"),n.iter = iters )\n",
    "    return(result)\n",
    "  }\n",
    ") "
   ]
  },
  {
   "cell_type": "code",
   "execution_count": 6,
   "metadata": {
    "collapsed": false
   },
   "outputs": [],
   "source": [
    "registerDoParallel(4) \n",
    "iters <- 25000\n",
    "time.4 <- system.time(\n",
    "  jags.parsamples.4 <- foreach( i = 1:getDoParWorkers( ), .inorder = FALSE, \n",
    "    .packages = c( 'rjags', 'random' ), .combine = \"mcmc.combine\", \n",
    "    .multicombine = TRUE ) %dopar% {\n",
    "      load.module( \"lecuyer\" )\n",
    "      model.file <- \"nb10-model-1.txt\"\n",
    "      model.jags <- jags.model(data = nb10.data.1,file = model.file,inits = nb10.inits.1)\n",
    "      result <- coda.samples( model.jags, variable.names = c(\"mu\",\"sigma\",\"nu\",\"y.new\"),n.iter = iters )\n",
    "    return(result)\n",
    "  }\n",
    ")"
   ]
  },
  {
   "cell_type": "code",
   "execution_count": 7,
   "metadata": {
    "collapsed": false
   },
   "outputs": [],
   "source": [
    "registerDoParallel(8) \n",
    "iters <- 12500\n",
    "time.8 <- system.time(\n",
    "  jags.parsamples.8 <- foreach( i = 1:getDoParWorkers( ), .inorder = FALSE, \n",
    "    .packages = c( 'rjags', 'random' ), .combine = \"mcmc.combine\", \n",
    "    .multicombine = TRUE ) %dopar% {\n",
    "      load.module( \"lecuyer\" )\n",
    "      model.file <- \"nb10-model-1.txt\"\n",
    "      model.jags <- jags.model(data = nb10.data.1,file = model.file,inits = nb10.inits.1)\n",
    "      result <- coda.samples( model.jags, variable.names = c(\"mu\",\"sigma\",\"nu\",\"y.new\"),n.iter = iters )\n",
    "    return(result)\n",
    "  }\n",
    ")"
   ]
  },
  {
   "cell_type": "code",
   "execution_count": 8,
   "metadata": {
    "collapsed": false
   },
   "outputs": [],
   "source": [
    "registerDoParallel(16) \n",
    "iters <- 6250\n",
    "time.16 <- system.time(\n",
    "  jags.parsamples.8 <- foreach( i = 1:getDoParWorkers( ), .inorder = FALSE, \n",
    "    .packages = c( 'rjags', 'random' ), .combine = \"mcmc.combine\", \n",
    "    .multicombine = TRUE ) %dopar% {\n",
    "      load.module( \"lecuyer\" )\n",
    "      model.file <- \"nb10-model-1.txt\"\n",
    "      model.jags <- jags.model(data = nb10.data.1,file = model.file,inits = nb10.inits.1)\n",
    "      result <- coda.samples( model.jags, variable.names = c(\"mu\",\"sigma\",\"nu\",\"y.new\"),n.iter = iters )\n",
    "    return(result)\n",
    "  }\n",
    ")"
   ]
  },
  {
   "cell_type": "code",
   "execution_count": 9,
   "metadata": {
    "collapsed": false
   },
   "outputs": [],
   "source": [
    "registerDoParallel(32) \n",
    "iters <- 3125\n",
    "time.32 <- system.time(\n",
    "  jags.parsamples.8 <- foreach( i = 1:getDoParWorkers( ), .inorder = FALSE, \n",
    "    .packages = c( 'rjags', 'random' ), .combine = \"mcmc.combine\", \n",
    "    .multicombine = TRUE ) %dopar% {\n",
    "      load.module( \"lecuyer\" )\n",
    "      model.file <- \"nb10-model-1.txt\"\n",
    "      model.jags <- jags.model(data = nb10.data.1,file = model.file,inits = nb10.inits.1)\n",
    "      result <- coda.samples( model.jags, variable.names = c(\"mu\",\"sigma\",\"nu\",\"y.new\"),n.iter = iters )\n",
    "    return(result)\n",
    "  }\n",
    ")"
   ]
  },
  {
   "cell_type": "code",
   "execution_count": 10,
   "metadata": {
    "collapsed": false
   },
   "outputs": [
    {
     "name": "stdout",
     "output_type": "stream",
     "text": [
      "   user  system elapsed \n",
      "  9.082   0.474   1.449 \n",
      "   user  system elapsed \n",
      "  7.515   0.250   1.394 \n",
      "   user  system elapsed \n",
      "  6.843   0.133   1.607 \n",
      "   user  system elapsed \n",
      "  6.798   0.091   2.071 \n",
      "   user  system elapsed \n",
      "  2.541   0.027   3.308 \n",
      "   user  system elapsed \n",
      "  4.970   0.023   7.003 \n"
     ]
    }
   ],
   "source": [
    "print (time.32)\n",
    "print (time.16)\n",
    "print (time.8)\n",
    "print (time.4)\n",
    "print (time.2)\n",
    "print (time.1)"
   ]
  },
  {
   "cell_type": "code",
   "execution_count": 11,
   "metadata": {
    "collapsed": false
   },
   "outputs": [
    {
     "data": {
      "image/png": "[encoded data removed]",
      "image/svg+xml": [
       "<?xml version=\"1.0\" encoding=\"UTF-8\"?>\n",
       "<svg xmlns=\"http://www.w3.org/2000/svg\" xmlns:xlink=\"http://www.w3.org/1999/xlink\" width=\"504pt\" height=\"504pt\" viewBox=\"0 0 504 504\" version=\"1.1\">\n",
       "<defs>\n",
       "<g>\n",
       "<symbol overflow=\"visible\" id=\"glyph0-0\">\n",
       "<path style=\"stroke:none;\" d=\"\"/>\n",
       "</symbol>\n",
       "<symbol overflow=\"visible\" id=\"glyph0-1\">\n",
       "<path style=\"stroke:none;\" d=\"M 3.296875 -8.515625 C 2.515625 -8.515625 1.78125 -8.15625 1.34375 -7.578125 C 0.796875 -6.828125 0.515625 -5.6875 0.515625 -4.109375 C 0.515625 -1.25 1.46875 0.28125 3.296875 0.28125 C 5.09375 0.28125 6.078125 -1.25 6.078125 -4.046875 C 6.078125 -5.703125 5.8125 -6.796875 5.25 -7.578125 C 4.8125 -8.171875 4.109375 -8.515625 3.296875 -8.515625 Z M 3.296875 -7.578125 C 4.4375 -7.578125 5 -6.421875 5 -4.140625 C 5 -1.734375 4.453125 -0.59375 3.28125 -0.59375 C 2.15625 -0.59375 1.59375 -1.78125 1.59375 -4.109375 C 1.59375 -6.4375 2.15625 -7.578125 3.296875 -7.578125 Z \"/>\n",
       "</symbol>\n",
       "<symbol overflow=\"visible\" id=\"glyph0-2\">\n",
       "<path style=\"stroke:none;\" d=\"M 5.71875 -8.515625 L 1.3125 -8.515625 L 0.6875 -3.875 L 1.65625 -3.875 C 2.140625 -4.46875 2.5625 -4.671875 3.21875 -4.671875 C 4.359375 -4.671875 5.078125 -3.890625 5.078125 -2.625 C 5.078125 -1.40625 4.375 -0.65625 3.21875 -0.65625 C 2.296875 -0.65625 1.734375 -1.125 1.46875 -2.09375 L 0.421875 -2.09375 C 0.5625 -1.390625 0.6875 -1.0625 0.9375 -0.75 C 1.421875 -0.09375 2.28125 0.28125 3.234375 0.28125 C 4.953125 0.28125 6.15625 -0.96875 6.15625 -2.765625 C 6.15625 -4.453125 5.046875 -5.609375 3.40625 -5.609375 C 2.8125 -5.609375 2.328125 -5.453125 1.84375 -5.09375 L 2.171875 -7.46875 L 5.71875 -7.46875 Z \"/>\n",
       "</symbol>\n",
       "<symbol overflow=\"visible\" id=\"glyph0-3\">\n",
       "<path style=\"stroke:none;\" d=\"M 3.109375 -6.0625 L 3.109375 0 L 4.15625 0 L 4.15625 -8.515625 L 3.46875 -8.515625 C 3.09375 -7.203125 2.859375 -7.015625 1.21875 -6.8125 L 1.21875 -6.0625 Z \"/>\n",
       "</symbol>\n",
       "<symbol overflow=\"visible\" id=\"glyph0-4\">\n",
       "<path style=\"stroke:none;\" d=\"M 6.078125 -1.046875 L 1.59375 -1.046875 C 1.703125 -1.734375 2.09375 -2.1875 3.125 -2.796875 L 4.328125 -3.4375 C 5.515625 -4.09375 6.125 -4.96875 6.125 -6.015625 C 6.125 -6.71875 5.84375 -7.375 5.34375 -7.84375 C 4.84375 -8.296875 4.21875 -8.515625 3.40625 -8.515625 C 2.328125 -8.515625 1.53125 -8.125 1.0625 -7.40625 C 0.75 -6.953125 0.625 -6.421875 0.59375 -5.5625 L 1.65625 -5.5625 C 1.6875 -6.125 1.765625 -6.484375 1.90625 -6.75 C 2.1875 -7.265625 2.734375 -7.578125 3.375 -7.578125 C 4.328125 -7.578125 5.046875 -6.90625 5.046875 -5.984375 C 5.046875 -5.3125 4.65625 -4.734375 3.90625 -4.3125 L 2.796875 -3.6875 C 1.015625 -2.671875 0.5 -1.875 0.40625 0 L 6.078125 0 Z \"/>\n",
       "</symbol>\n",
       "<symbol overflow=\"visible\" id=\"glyph0-5\">\n",
       "<path style=\"stroke:none;\" d=\"M 2.65625 -3.90625 L 3.234375 -3.90625 C 4.390625 -3.90625 4.984375 -3.390625 4.984375 -2.359375 C 4.984375 -1.296875 4.328125 -0.65625 3.234375 -0.65625 C 2.078125 -0.65625 1.515625 -1.234375 1.4375 -2.46875 L 0.390625 -2.46875 C 0.4375 -1.78125 0.546875 -1.34375 0.75 -0.953125 C 1.1875 -0.140625 2.03125 0.28125 3.1875 0.28125 C 4.9375 0.28125 6.078125 -0.765625 6.078125 -2.375 C 6.078125 -3.453125 5.65625 -4.0625 4.625 -4.40625 C 5.421875 -4.71875 5.8125 -5.3125 5.8125 -6.171875 C 5.8125 -7.625 4.84375 -8.515625 3.234375 -8.515625 C 1.515625 -8.515625 0.59375 -7.578125 0.5625 -5.765625 L 1.625 -5.765625 C 1.625 -6.28125 1.6875 -6.5625 1.8125 -6.828125 C 2.046875 -7.296875 2.578125 -7.578125 3.234375 -7.578125 C 4.171875 -7.578125 4.734375 -7.03125 4.734375 -6.125 C 4.734375 -5.53125 4.53125 -5.171875 4.0625 -4.984375 C 3.765625 -4.859375 3.390625 -4.8125 2.65625 -4.796875 Z \"/>\n",
       "</symbol>\n",
       "<symbol overflow=\"visible\" id=\"glyph0-6\">\n",
       "<path style=\"stroke:none;\" d=\"M 5.65625 -4.171875 C 5.609375 -4.78125 5.46875 -5.1875 5.234375 -5.53125 C 4.796875 -6.125 4.046875 -6.46875 3.171875 -6.46875 C 1.46875 -6.46875 0.375 -5.125 0.375 -3.03125 C 0.375 -1.015625 1.453125 0.28125 3.15625 0.28125 C 4.65625 0.28125 5.609375 -0.625 5.71875 -2.15625 L 4.71875 -2.15625 C 4.546875 -1.15625 4.03125 -0.640625 3.1875 -0.640625 C 2.078125 -0.640625 1.421875 -1.546875 1.421875 -3.03125 C 1.421875 -4.609375 2.0625 -5.546875 3.15625 -5.546875 C 4 -5.546875 4.53125 -5.046875 4.640625 -4.171875 Z \"/>\n",
       "</symbol>\n",
       "<symbol overflow=\"visible\" id=\"glyph0-7\">\n",
       "<path style=\"stroke:none;\" d=\"M 2.828125 -8.75 C 1.625 -7.171875 0.875 -4.984375 0.875 -3.109375 C 0.875 -1.21875 1.625 0.96875 2.828125 2.546875 L 3.484375 2.546875 C 2.4375 0.828125 1.84375 -1.1875 1.84375 -3.109375 C 1.84375 -5.015625 2.4375 -7.046875 3.484375 -8.75 Z \"/>\n",
       "</symbol>\n",
       "<symbol overflow=\"visible\" id=\"glyph0-8\">\n",
       "<path style=\"stroke:none;\" d=\"M 1.046875 -1.25 L 1.046875 0 L 1.765625 0 L 1.765625 0.21875 C 1.765625 1.046875 1.609375 1.28125 1.046875 1.3125 L 1.046875 1.765625 C 1.890625 1.765625 2.296875 1.21875 2.296875 0.1875 L 2.296875 -1.25 Z \"/>\n",
       "</symbol>\n",
       "<symbol overflow=\"visible\" id=\"glyph0-9\">\n",
       "<path style=\"stroke:none;\" d=\"\"/>\n",
       "</symbol>\n",
       "<symbol overflow=\"visible\" id=\"glyph0-10\">\n",
       "<path style=\"stroke:none;\" d=\"M 3.921875 -2.046875 L 3.921875 0 L 4.984375 0 L 4.984375 -2.046875 L 6.234375 -2.046875 L 6.234375 -2.984375 L 4.984375 -2.984375 L 4.984375 -8.515625 L 4.203125 -8.515625 L 0.34375 -3.15625 L 0.34375 -2.046875 Z M 3.921875 -2.984375 L 1.265625 -2.984375 L 3.921875 -6.703125 Z \"/>\n",
       "</symbol>\n",
       "<symbol overflow=\"visible\" id=\"glyph0-11\">\n",
       "<path style=\"stroke:none;\" d=\"M 4.6875 -4.46875 C 5.5625 -5 5.859375 -5.4375 5.859375 -6.234375 C 5.859375 -7.578125 4.8125 -8.515625 3.296875 -8.515625 C 1.796875 -8.515625 0.75 -7.578125 0.75 -6.234375 C 0.75 -5.453125 1.03125 -5.015625 1.890625 -4.46875 C 0.921875 -4.015625 0.4375 -3.296875 0.4375 -2.359375 C 0.4375 -0.796875 1.625 0.28125 3.296875 0.28125 C 4.984375 0.28125 6.15625 -0.796875 6.15625 -2.359375 C 6.15625 -3.296875 5.671875 -4.015625 4.6875 -4.46875 Z M 3.296875 -7.578125 C 4.203125 -7.578125 4.78125 -7.046875 4.78125 -6.21875 C 4.78125 -5.421875 4.1875 -4.890625 3.296875 -4.890625 C 2.40625 -4.890625 1.828125 -5.421875 1.828125 -6.234375 C 1.828125 -7.046875 2.40625 -7.578125 3.296875 -7.578125 Z M 3.296875 -4.015625 C 4.359375 -4.015625 5.078125 -3.34375 5.078125 -2.34375 C 5.078125 -1.328125 4.359375 -0.65625 3.28125 -0.65625 C 2.25 -0.65625 1.53125 -1.34375 1.53125 -2.34375 C 1.53125 -3.34375 2.25 -4.015625 3.296875 -4.015625 Z \"/>\n",
       "</symbol>\n",
       "<symbol overflow=\"visible\" id=\"glyph0-12\">\n",
       "<path style=\"stroke:none;\" d=\"M 5.96875 -6.28125 C 5.765625 -7.6875 4.859375 -8.515625 3.5625 -8.515625 C 2.625 -8.515625 1.78125 -8.046875 1.28125 -7.296875 C 0.75 -6.46875 0.515625 -5.421875 0.515625 -3.875 C 0.515625 -2.453125 0.734375 -1.53125 1.234375 -0.78125 C 1.6875 -0.09375 2.4375 0.28125 3.375 0.28125 C 4.984375 0.28125 6.15625 -0.921875 6.15625 -2.59375 C 6.15625 -4.171875 5.078125 -5.296875 3.546875 -5.296875 C 2.71875 -5.296875 2.046875 -4.96875 1.59375 -4.34375 C 1.609375 -6.421875 2.28125 -7.578125 3.484375 -7.578125 C 4.234375 -7.578125 4.75 -7.109375 4.921875 -6.28125 Z M 3.421875 -4.359375 C 4.4375 -4.359375 5.078125 -3.640625 5.078125 -2.515625 C 5.078125 -1.4375 4.359375 -0.65625 3.390625 -0.65625 C 2.40625 -0.65625 1.65625 -1.46875 1.65625 -2.5625 C 1.65625 -3.625 2.375 -4.359375 3.421875 -4.359375 Z \"/>\n",
       "</symbol>\n",
       "<symbol overflow=\"visible\" id=\"glyph0-13\">\n",
       "<path style=\"stroke:none;\" d=\"M 1.109375 2.546875 C 2.3125 0.96875 3.078125 -1.21875 3.078125 -3.09375 C 3.078125 -4.984375 2.3125 -7.171875 1.109375 -8.75 L 0.453125 -8.75 C 1.515625 -7.03125 2.09375 -5.015625 2.09375 -3.09375 C 2.09375 -1.1875 1.515625 0.84375 0.453125 2.546875 Z \"/>\n",
       "</symbol>\n",
       "<symbol overflow=\"visible\" id=\"glyph1-0\">\n",
       "<path style=\"stroke:none;\" d=\"\"/>\n",
       "</symbol>\n",
       "<symbol overflow=\"visible\" id=\"glyph1-1\">\n",
       "<path style=\"stroke:none;\" d=\"M -1.046875 -6.078125 L -1.046875 -1.59375 C -1.734375 -1.703125 -2.1875 -2.09375 -2.796875 -3.125 L -3.4375 -4.328125 C -4.09375 -5.515625 -4.96875 -6.125 -6.015625 -6.125 C -6.71875 -6.125 -7.375 -5.84375 -7.84375 -5.34375 C -8.296875 -4.84375 -8.515625 -4.21875 -8.515625 -3.40625 C -8.515625 -2.328125 -8.125 -1.53125 -7.40625 -1.0625 C -6.953125 -0.75 -6.421875 -0.625 -5.5625 -0.59375 L -5.5625 -1.65625 C -6.125 -1.6875 -6.484375 -1.765625 -6.75 -1.90625 C -7.265625 -2.1875 -7.578125 -2.734375 -7.578125 -3.375 C -7.578125 -4.328125 -6.90625 -5.046875 -5.984375 -5.046875 C -5.3125 -5.046875 -4.734375 -4.65625 -4.3125 -3.90625 L -3.6875 -2.796875 C -2.671875 -1.015625 -1.875 -0.5 0 -0.40625 L 0 -6.078125 Z \"/>\n",
       "</symbol>\n",
       "<symbol overflow=\"visible\" id=\"glyph1-2\">\n",
       "<path style=\"stroke:none;\" d=\"M -3.90625 -2.65625 L -3.90625 -3.234375 C -3.90625 -4.390625 -3.390625 -4.984375 -2.359375 -4.984375 C -1.296875 -4.984375 -0.65625 -4.328125 -0.65625 -3.234375 C -0.65625 -2.078125 -1.234375 -1.515625 -2.46875 -1.4375 L -2.46875 -0.390625 C -1.78125 -0.4375 -1.34375 -0.546875 -0.953125 -0.75 C -0.140625 -1.1875 0.28125 -2.03125 0.28125 -3.1875 C 0.28125 -4.9375 -0.765625 -6.078125 -2.375 -6.078125 C -3.453125 -6.078125 -4.0625 -5.65625 -4.40625 -4.625 C -4.71875 -5.421875 -5.3125 -5.8125 -6.171875 -5.8125 C -7.625 -5.8125 -8.515625 -4.84375 -8.515625 -3.234375 C -8.515625 -1.515625 -7.578125 -0.59375 -5.765625 -0.5625 L -5.765625 -1.625 C -6.28125 -1.625 -6.5625 -1.6875 -6.828125 -1.8125 C -7.296875 -2.046875 -7.578125 -2.578125 -7.578125 -3.234375 C -7.578125 -4.171875 -7.03125 -4.734375 -6.125 -4.734375 C -5.53125 -4.734375 -5.171875 -4.53125 -4.984375 -4.0625 C -4.859375 -3.765625 -4.8125 -3.390625 -4.796875 -2.65625 Z \"/>\n",
       "</symbol>\n",
       "<symbol overflow=\"visible\" id=\"glyph1-3\">\n",
       "<path style=\"stroke:none;\" d=\"M -2.046875 -3.921875 L 0 -3.921875 L 0 -4.984375 L -2.046875 -4.984375 L -2.046875 -6.234375 L -2.984375 -6.234375 L -2.984375 -4.984375 L -8.515625 -4.984375 L -8.515625 -4.203125 L -3.15625 -0.34375 L -2.046875 -0.34375 Z M -2.984375 -3.921875 L -2.984375 -1.265625 L -6.703125 -3.921875 Z \"/>\n",
       "</symbol>\n",
       "<symbol overflow=\"visible\" id=\"glyph1-4\">\n",
       "<path style=\"stroke:none;\" d=\"M -8.515625 -5.71875 L -8.515625 -1.3125 L -3.875 -0.6875 L -3.875 -1.65625 C -4.46875 -2.140625 -4.671875 -2.5625 -4.671875 -3.21875 C -4.671875 -4.359375 -3.890625 -5.078125 -2.625 -5.078125 C -1.40625 -5.078125 -0.65625 -4.375 -0.65625 -3.21875 C -0.65625 -2.296875 -1.125 -1.734375 -2.09375 -1.46875 L -2.09375 -0.421875 C -1.390625 -0.5625 -1.0625 -0.6875 -0.75 -0.9375 C -0.09375 -1.421875 0.28125 -2.28125 0.28125 -3.234375 C 0.28125 -4.953125 -0.96875 -6.15625 -2.765625 -6.15625 C -4.453125 -6.15625 -5.609375 -5.046875 -5.609375 -3.40625 C -5.609375 -2.8125 -5.453125 -2.328125 -5.09375 -1.84375 L -7.46875 -2.171875 L -7.46875 -5.71875 Z \"/>\n",
       "</symbol>\n",
       "<symbol overflow=\"visible\" id=\"glyph1-5\">\n",
       "<path style=\"stroke:none;\" d=\"M -6.28125 -5.96875 C -7.6875 -5.765625 -8.515625 -4.859375 -8.515625 -3.5625 C -8.515625 -2.625 -8.046875 -1.78125 -7.296875 -1.28125 C -6.46875 -0.75 -5.421875 -0.515625 -3.875 -0.515625 C -2.453125 -0.515625 -1.53125 -0.734375 -0.78125 -1.234375 C -0.09375 -1.6875 0.28125 -2.4375 0.28125 -3.375 C 0.28125 -4.984375 -0.921875 -6.15625 -2.59375 -6.15625 C -4.171875 -6.15625 -5.296875 -5.078125 -5.296875 -3.546875 C -5.296875 -2.71875 -4.96875 -2.046875 -4.34375 -1.59375 C -6.421875 -1.609375 -7.578125 -2.28125 -7.578125 -3.484375 C -7.578125 -4.234375 -7.109375 -4.75 -6.28125 -4.921875 Z M -4.359375 -3.421875 C -4.359375 -4.4375 -3.640625 -5.078125 -2.515625 -5.078125 C -1.4375 -5.078125 -0.65625 -4.359375 -0.65625 -3.390625 C -0.65625 -2.40625 -1.46875 -1.65625 -2.5625 -1.65625 C -3.625 -1.65625 -4.359375 -2.375 -4.359375 -3.421875 Z \"/>\n",
       "</symbol>\n",
       "<symbol overflow=\"visible\" id=\"glyph1-6\">\n",
       "<path style=\"stroke:none;\" d=\"M -8.515625 -6.234375 L -8.515625 -0.546875 L -7.46875 -0.546875 L -7.46875 -5.140625 C -4.578125 -3.125 -2.796875 -2.296875 0 -1.65625 L 0 -2.78125 C -2.71875 -3.25 -5.0625 -4.3125 -7.625 -6.234375 Z \"/>\n",
       "</symbol>\n",
       "<symbol overflow=\"visible\" id=\"glyph1-7\">\n",
       "<path style=\"stroke:none;\" d=\"M -4.171875 -5.65625 C -4.78125 -5.609375 -5.1875 -5.46875 -5.53125 -5.234375 C -6.125 -4.796875 -6.46875 -4.046875 -6.46875 -3.171875 C -6.46875 -1.46875 -5.125 -0.375 -3.03125 -0.375 C -1.015625 -0.375 0.28125 -1.453125 0.28125 -3.15625 C 0.28125 -4.65625 -0.625 -5.609375 -2.15625 -5.71875 L -2.15625 -4.71875 C -1.15625 -4.546875 -0.640625 -4.03125 -0.640625 -3.1875 C -0.640625 -2.078125 -1.546875 -1.421875 -3.03125 -1.421875 C -4.609375 -1.421875 -5.546875 -2.0625 -5.546875 -3.15625 C -5.546875 -4 -5.046875 -4.53125 -4.171875 -4.640625 Z \"/>\n",
       "</symbol>\n",
       "<symbol overflow=\"visible\" id=\"glyph1-8\">\n",
       "<path style=\"stroke:none;\" d=\"M -8.75 -2.828125 C -7.171875 -1.625 -4.984375 -0.875 -3.109375 -0.875 C -1.21875 -0.875 0.96875 -1.625 2.546875 -2.828125 L 2.546875 -3.484375 C 0.828125 -2.4375 -1.1875 -1.84375 -3.109375 -1.84375 C -5.015625 -1.84375 -7.046875 -2.4375 -8.75 -3.484375 Z \"/>\n",
       "</symbol>\n",
       "<symbol overflow=\"visible\" id=\"glyph1-9\">\n",
       "<path style=\"stroke:none;\" d=\"M -6.28125 -3.046875 L -6.28125 -2.015625 L -8.015625 -2.015625 L -8.015625 -1.015625 L -6.28125 -1.015625 L -6.28125 -0.171875 L -5.46875 -0.171875 L -5.46875 -1.015625 L -0.71875 -1.015625 C -0.078125 -1.015625 0.28125 -1.453125 0.28125 -2.234375 C 0.28125 -2.46875 0.25 -2.71875 0.1875 -3.046875 L -0.640625 -3.046875 C -0.609375 -2.921875 -0.59375 -2.765625 -0.59375 -2.5625 C -0.59375 -2.140625 -0.71875 -2.015625 -1.15625 -2.015625 L -5.46875 -2.015625 L -5.46875 -3.046875 Z \"/>\n",
       "</symbol>\n",
       "<symbol overflow=\"visible\" id=\"glyph1-10\">\n",
       "<path style=\"stroke:none;\" d=\"M -6.28125 -1.796875 L -6.28125 -0.796875 L 0 -0.796875 L 0 -1.796875 Z M -8.75 -1.796875 L -8.75 -0.796875 L -7.484375 -0.796875 L -7.484375 -1.796875 Z \"/>\n",
       "</symbol>\n",
       "<symbol overflow=\"visible\" id=\"glyph1-11\">\n",
       "<path style=\"stroke:none;\" d=\"M -6.28125 -0.84375 L 0 -0.84375 L 0 -1.84375 L -3.953125 -1.84375 C -4.859375 -1.84375 -5.59375 -2.515625 -5.59375 -3.328125 C -5.59375 -4.0625 -5.140625 -4.484375 -4.328125 -4.484375 L 0 -4.484375 L 0 -5.5 L -3.953125 -5.5 C -4.859375 -5.5 -5.59375 -6.15625 -5.59375 -6.96875 C -5.59375 -7.703125 -5.125 -8.140625 -4.328125 -8.140625 L 0 -8.140625 L 0 -9.140625 L -4.71875 -9.140625 C -5.84375 -9.140625 -6.46875 -8.5 -6.46875 -7.3125 C -6.46875 -6.484375 -6.21875 -5.96875 -5.515625 -5.390625 C -6.1875 -5.015625 -6.46875 -4.515625 -6.46875 -3.703125 C -6.46875 -2.859375 -6.15625 -2.296875 -5.40625 -1.765625 L -6.28125 -1.765625 Z \"/>\n",
       "</symbol>\n",
       "<symbol overflow=\"visible\" id=\"glyph1-12\">\n",
       "<path style=\"stroke:none;\" d=\"M -2.8125 -6.15625 C -3.765625 -6.15625 -4.34375 -6.078125 -4.8125 -5.90625 C -5.84375 -5.5 -6.46875 -4.53125 -6.46875 -3.359375 C -6.46875 -1.609375 -5.125 -0.484375 -3.0625 -0.484375 C -1 -0.484375 0.28125 -1.578125 0.28125 -3.34375 C 0.28125 -4.78125 -0.546875 -5.765625 -1.90625 -6.03125 L -1.90625 -5.015625 C -1.078125 -4.734375 -0.640625 -4.171875 -0.640625 -3.375 C -0.640625 -2.734375 -0.9375 -2.203125 -1.46875 -1.859375 C -1.828125 -1.625 -2.1875 -1.53125 -2.8125 -1.53125 Z M -3.625 -1.546875 C -4.78125 -1.625 -5.546875 -2.34375 -5.546875 -3.34375 C -5.546875 -4.328125 -4.734375 -5.09375 -3.703125 -5.09375 C -3.671875 -5.09375 -3.640625 -5.09375 -3.625 -5.078125 Z \"/>\n",
       "</symbol>\n",
       "<symbol overflow=\"visible\" id=\"glyph1-13\">\n",
       "<path style=\"stroke:none;\" d=\"M -1.25 -2.296875 L -1.25 -1.046875 L 0 -1.046875 L 0 -2.296875 Z \"/>\n",
       "</symbol>\n",
       "<symbol overflow=\"visible\" id=\"glyph1-14\">\n",
       "<path style=\"stroke:none;\" d=\"M -6.0625 -3.109375 L 0 -3.109375 L 0 -4.15625 L -8.515625 -4.15625 L -8.515625 -3.46875 C -7.203125 -3.09375 -7.015625 -2.859375 -6.8125 -1.21875 L -6.0625 -1.21875 Z \"/>\n",
       "</symbol>\n",
       "<symbol overflow=\"visible\" id=\"glyph1-15\">\n",
       "<path style=\"stroke:none;\" d=\"M -8.75 -3 L -8.75 -0.765625 L 2.546875 -0.765625 L 2.546875 -3 L 1.6875 -3 L 1.6875 -1.765625 L -7.890625 -1.765625 L -7.890625 -3 Z \"/>\n",
       "</symbol>\n",
       "<symbol overflow=\"visible\" id=\"glyph1-16\">\n",
       "<path style=\"stroke:none;\" d=\"M 2.546875 -0.28125 L 2.546875 -2.515625 L -8.75 -2.515625 L -8.75 -0.28125 L -7.890625 -0.28125 L -7.890625 -1.515625 L 1.6875 -1.515625 L 1.6875 -0.28125 Z \"/>\n",
       "</symbol>\n",
       "<symbol overflow=\"visible\" id=\"glyph1-17\">\n",
       "<path style=\"stroke:none;\" d=\"M -1.25 -1.046875 L 0 -1.046875 L 0 -1.765625 L 0.21875 -1.765625 C 1.046875 -1.765625 1.28125 -1.609375 1.3125 -1.046875 L 1.765625 -1.046875 C 1.765625 -1.890625 1.21875 -2.296875 0.1875 -2.296875 L -1.25 -2.296875 Z \"/>\n",
       "</symbol>\n",
       "<symbol overflow=\"visible\" id=\"glyph1-18\">\n",
       "<path style=\"stroke:none;\" d=\"\"/>\n",
       "</symbol>\n",
       "<symbol overflow=\"visible\" id=\"glyph1-19\">\n",
       "<path style=\"stroke:none;\" d=\"M -4.46875 -4.6875 C -5 -5.5625 -5.4375 -5.859375 -6.234375 -5.859375 C -7.578125 -5.859375 -8.515625 -4.8125 -8.515625 -3.296875 C -8.515625 -1.796875 -7.578125 -0.75 -6.234375 -0.75 C -5.453125 -0.75 -5.015625 -1.03125 -4.46875 -1.890625 C -4.015625 -0.921875 -3.296875 -0.4375 -2.359375 -0.4375 C -0.796875 -0.4375 0.28125 -1.625 0.28125 -3.296875 C 0.28125 -4.984375 -0.796875 -6.15625 -2.359375 -6.15625 C -3.296875 -6.15625 -4.015625 -5.671875 -4.46875 -4.6875 Z M -7.578125 -3.296875 C -7.578125 -4.203125 -7.046875 -4.78125 -6.21875 -4.78125 C -5.421875 -4.78125 -4.890625 -4.1875 -4.890625 -3.296875 C -4.890625 -2.40625 -5.421875 -1.828125 -6.234375 -1.828125 C -7.046875 -1.828125 -7.578125 -2.40625 -7.578125 -3.296875 Z M -4.015625 -3.296875 C -4.015625 -4.359375 -3.34375 -5.078125 -2.34375 -5.078125 C -1.328125 -5.078125 -0.65625 -4.359375 -0.65625 -3.28125 C -0.65625 -2.25 -1.34375 -1.53125 -2.34375 -1.53125 C -3.34375 -1.53125 -4.015625 -2.25 -4.015625 -3.296875 Z \"/>\n",
       "</symbol>\n",
       "<symbol overflow=\"visible\" id=\"glyph1-20\">\n",
       "<path style=\"stroke:none;\" d=\"M 2.546875 -1.109375 C 0.96875 -2.3125 -1.21875 -3.078125 -3.09375 -3.078125 C -4.984375 -3.078125 -7.171875 -2.3125 -8.75 -1.109375 L -8.75 -0.453125 C -7.03125 -1.515625 -5.015625 -2.09375 -3.09375 -2.09375 C -1.1875 -2.09375 0.84375 -1.515625 2.546875 -0.453125 Z \"/>\n",
       "</symbol>\n",
       "</g>\n",
       "</defs>\n",
       "<g id=\"surface50\">\n",
       "<rect x=\"0\" y=\"0\" width=\"504\" height=\"504\" style=\"fill:rgb(100%,100%,100%);fill-opacity:1;stroke:none;\"/>\n",
       "<path style=\"fill:none;stroke-width:0.75;stroke-linecap:round;stroke-linejoin:round;stroke:rgb(0%,0%,0%);stroke-opacity:1;stroke-miterlimit:10;\" d=\"M 77.101562 72.800781 C 77.101562 76.398438 71.699219 76.398438 71.699219 72.800781 C 71.699219 69.199219 77.101562 69.199219 77.101562 72.800781 \"/>\n",
       "<path style=\"fill:none;stroke-width:0.75;stroke-linecap:round;stroke-linejoin:round;stroke:rgb(0%,0%,0%);stroke-opacity:1;stroke-miterlimit:10;\" d=\"M 89.488281 299.414062 C 89.488281 303.015625 84.085938 303.015625 84.085938 299.414062 C 84.085938 295.8125 89.488281 295.8125 89.488281 299.414062 \"/>\n",
       "<path style=\"fill:none;stroke-width:0.75;stroke-linecap:round;stroke-linejoin:round;stroke:rgb(0%,0%,0%);stroke-opacity:1;stroke-miterlimit:10;\" d=\"M 114.261719 375.28125 C 114.261719 378.878906 108.859375 378.878906 108.859375 375.28125 C 108.859375 371.679688 114.261719 371.679688 114.261719 375.28125 \"/>\n",
       "<path style=\"fill:none;stroke-width:0.75;stroke-linecap:round;stroke-linejoin:round;stroke:rgb(0%,0%,0%);stroke-opacity:1;stroke-miterlimit:10;\" d=\"M 163.808594 403.738281 C 163.808594 407.335938 158.410156 407.335938 158.410156 403.738281 C 158.410156 400.136719 163.808594 400.136719 163.808594 403.738281 \"/>\n",
       "<path style=\"fill:none;stroke-width:0.75;stroke-linecap:round;stroke-linejoin:round;stroke:rgb(0%,0%,0%);stroke-opacity:1;stroke-miterlimit:10;\" d=\"M 262.90625 416.800781 C 262.90625 420.398438 257.507812 420.398438 257.507812 416.800781 C 257.507812 413.199219 262.90625 413.199219 262.90625 416.800781 \"/>\n",
       "<path style=\"fill:none;stroke-width:0.75;stroke-linecap:round;stroke-linejoin:round;stroke:rgb(0%,0%,0%);stroke-opacity:1;stroke-miterlimit:10;\" d=\"M 461.101562 413.425781 C 461.101562 417.027344 455.699219 417.027344 455.699219 413.425781 C 455.699219 409.828125 461.101562 409.828125 461.101562 413.425781 \"/>\n",
       "<path style=\"fill:none;stroke-width:0.75;stroke-linecap:round;stroke-linejoin:round;stroke:rgb(0%,0%,0%);stroke-opacity:1;stroke-miterlimit:10;\" d=\"M 62.011719 430.558594 L 433.625 430.558594 \"/>\n",
       "<path style=\"fill:none;stroke-width:0.75;stroke-linecap:round;stroke-linejoin:round;stroke:rgb(0%,0%,0%);stroke-opacity:1;stroke-miterlimit:10;\" d=\"M 62.011719 430.558594 L 62.011719 437.761719 \"/>\n",
       "<path style=\"fill:none;stroke-width:0.75;stroke-linecap:round;stroke-linejoin:round;stroke:rgb(0%,0%,0%);stroke-opacity:1;stroke-miterlimit:10;\" d=\"M 123.949219 430.558594 L 123.949219 437.761719 \"/>\n",
       "<path style=\"fill:none;stroke-width:0.75;stroke-linecap:round;stroke-linejoin:round;stroke:rgb(0%,0%,0%);stroke-opacity:1;stroke-miterlimit:10;\" d=\"M 185.882812 430.558594 L 185.882812 437.761719 \"/>\n",
       "<path style=\"fill:none;stroke-width:0.75;stroke-linecap:round;stroke-linejoin:round;stroke:rgb(0%,0%,0%);stroke-opacity:1;stroke-miterlimit:10;\" d=\"M 247.820312 430.558594 L 247.820312 437.761719 \"/>\n",
       "<path style=\"fill:none;stroke-width:0.75;stroke-linecap:round;stroke-linejoin:round;stroke:rgb(0%,0%,0%);stroke-opacity:1;stroke-miterlimit:10;\" d=\"M 309.753906 430.558594 L 309.753906 437.761719 \"/>\n",
       "<path style=\"fill:none;stroke-width:0.75;stroke-linecap:round;stroke-linejoin:round;stroke:rgb(0%,0%,0%);stroke-opacity:1;stroke-miterlimit:10;\" d=\"M 371.691406 430.558594 L 371.691406 437.761719 \"/>\n",
       "<path style=\"fill:none;stroke-width:0.75;stroke-linecap:round;stroke-linejoin:round;stroke:rgb(0%,0%,0%);stroke-opacity:1;stroke-miterlimit:10;\" d=\"M 433.625 430.558594 L 433.625 437.761719 \"/>\n",
       "<g style=\"fill:rgb(0%,0%,0%);fill-opacity:1;\">\n",
       "  <use xlink:href=\"#glyph0-1\" x=\"58.511719\" y=\"455.916016\"/>\n",
       "</g>\n",
       "<g style=\"fill:rgb(0%,0%,0%);fill-opacity:1;\">\n",
       "  <use xlink:href=\"#glyph0-2\" x=\"120.449219\" y=\"455.916016\"/>\n",
       "</g>\n",
       "<g style=\"fill:rgb(0%,0%,0%);fill-opacity:1;\">\n",
       "  <use xlink:href=\"#glyph0-3\" x=\"178.882812\" y=\"455.916016\"/>\n",
       "  <use xlink:href=\"#glyph0-1\" x=\"185.554688\" y=\"455.916016\"/>\n",
       "</g>\n",
       "<g style=\"fill:rgb(0%,0%,0%);fill-opacity:1;\">\n",
       "  <use xlink:href=\"#glyph0-3\" x=\"240.820312\" y=\"455.916016\"/>\n",
       "  <use xlink:href=\"#glyph0-2\" x=\"247.492188\" y=\"455.916016\"/>\n",
       "</g>\n",
       "<g style=\"fill:rgb(0%,0%,0%);fill-opacity:1;\">\n",
       "  <use xlink:href=\"#glyph0-4\" x=\"302.753906\" y=\"455.916016\"/>\n",
       "  <use xlink:href=\"#glyph0-1\" x=\"309.425781\" y=\"455.916016\"/>\n",
       "</g>\n",
       "<g style=\"fill:rgb(0%,0%,0%);fill-opacity:1;\">\n",
       "  <use xlink:href=\"#glyph0-4\" x=\"364.691406\" y=\"455.916016\"/>\n",
       "  <use xlink:href=\"#glyph0-2\" x=\"371.363281\" y=\"455.916016\"/>\n",
       "</g>\n",
       "<g style=\"fill:rgb(0%,0%,0%);fill-opacity:1;\">\n",
       "  <use xlink:href=\"#glyph0-5\" x=\"426.625\" y=\"455.916016\"/>\n",
       "  <use xlink:href=\"#glyph0-1\" x=\"433.296875\" y=\"455.916016\"/>\n",
       "</g>\n",
       "<path style=\"fill:none;stroke-width:0.75;stroke-linecap:round;stroke-linejoin:round;stroke:rgb(0%,0%,0%);stroke-opacity:1;stroke-miterlimit:10;\" d=\"M 59.039062 379.632812 L 59.039062 72.984375 \"/>\n",
       "<path style=\"fill:none;stroke-width:0.75;stroke-linecap:round;stroke-linejoin:round;stroke:rgb(0%,0%,0%);stroke-opacity:1;stroke-miterlimit:10;\" d=\"M 59.039062 379.632812 L 51.839844 379.632812 \"/>\n",
       "<path style=\"fill:none;stroke-width:0.75;stroke-linecap:round;stroke-linejoin:round;stroke:rgb(0%,0%,0%);stroke-opacity:1;stroke-miterlimit:10;\" d=\"M 59.039062 318.304688 L 51.839844 318.304688 \"/>\n",
       "<path style=\"fill:none;stroke-width:0.75;stroke-linecap:round;stroke-linejoin:round;stroke:rgb(0%,0%,0%);stroke-opacity:1;stroke-miterlimit:10;\" d=\"M 59.039062 256.972656 L 51.839844 256.972656 \"/>\n",
       "<path style=\"fill:none;stroke-width:0.75;stroke-linecap:round;stroke-linejoin:round;stroke:rgb(0%,0%,0%);stroke-opacity:1;stroke-miterlimit:10;\" d=\"M 59.039062 195.644531 L 51.839844 195.644531 \"/>\n",
       "<path style=\"fill:none;stroke-width:0.75;stroke-linecap:round;stroke-linejoin:round;stroke:rgb(0%,0%,0%);stroke-opacity:1;stroke-miterlimit:10;\" d=\"M 59.039062 134.3125 L 51.839844 134.3125 \"/>\n",
       "<path style=\"fill:none;stroke-width:0.75;stroke-linecap:round;stroke-linejoin:round;stroke:rgb(0%,0%,0%);stroke-opacity:1;stroke-miterlimit:10;\" d=\"M 59.039062 72.984375 L 51.839844 72.984375 \"/>\n",
       "<g style=\"fill:rgb(0%,0%,0%);fill-opacity:1;\">\n",
       "  <use xlink:href=\"#glyph1-1\" x=\"41.197266\" y=\"383.132812\"/>\n",
       "</g>\n",
       "<g style=\"fill:rgb(0%,0%,0%);fill-opacity:1;\">\n",
       "  <use xlink:href=\"#glyph1-2\" x=\"41.197266\" y=\"321.804688\"/>\n",
       "</g>\n",
       "<g style=\"fill:rgb(0%,0%,0%);fill-opacity:1;\">\n",
       "  <use xlink:href=\"#glyph1-3\" x=\"41.197266\" y=\"260.472656\"/>\n",
       "</g>\n",
       "<g style=\"fill:rgb(0%,0%,0%);fill-opacity:1;\">\n",
       "  <use xlink:href=\"#glyph1-4\" x=\"41.197266\" y=\"199.144531\"/>\n",
       "</g>\n",
       "<g style=\"fill:rgb(0%,0%,0%);fill-opacity:1;\">\n",
       "  <use xlink:href=\"#glyph1-5\" x=\"41.197266\" y=\"137.8125\"/>\n",
       "</g>\n",
       "<g style=\"fill:rgb(0%,0%,0%);fill-opacity:1;\">\n",
       "  <use xlink:href=\"#glyph1-6\" x=\"41.197266\" y=\"76.484375\"/>\n",
       "</g>\n",
       "<path style=\"fill:none;stroke-width:0.75;stroke-linecap:round;stroke-linejoin:round;stroke:rgb(0%,0%,0%);stroke-opacity:1;stroke-miterlimit:10;\" d=\"M 59.039062 430.558594 L 473.761719 430.558594 L 473.761719 59.039062 L 59.039062 59.039062 L 59.039062 430.558594 \"/>\n",
       "<g style=\"fill:rgb(0%,0%,0%);fill-opacity:1;\">\n",
       "  <use xlink:href=\"#glyph0-6\" x=\"215.898438\" y=\"484.716797\"/>\n",
       "  <use xlink:href=\"#glyph0-7\" x=\"221.898438\" y=\"484.716797\"/>\n",
       "  <use xlink:href=\"#glyph0-3\" x=\"225.894531\" y=\"484.716797\"/>\n",
       "  <use xlink:href=\"#glyph0-8\" x=\"232.566406\" y=\"484.716797\"/>\n",
       "  <use xlink:href=\"#glyph0-9\" x=\"235.902344\" y=\"484.716797\"/>\n",
       "  <use xlink:href=\"#glyph0-4\" x=\"239.238281\" y=\"484.716797\"/>\n",
       "  <use xlink:href=\"#glyph0-8\" x=\"245.910156\" y=\"484.716797\"/>\n",
       "  <use xlink:href=\"#glyph0-9\" x=\"249.246094\" y=\"484.716797\"/>\n",
       "  <use xlink:href=\"#glyph0-10\" x=\"252.582031\" y=\"484.716797\"/>\n",
       "  <use xlink:href=\"#glyph0-8\" x=\"259.253906\" y=\"484.716797\"/>\n",
       "  <use xlink:href=\"#glyph0-9\" x=\"262.589844\" y=\"484.716797\"/>\n",
       "  <use xlink:href=\"#glyph0-11\" x=\"265.925781\" y=\"484.716797\"/>\n",
       "  <use xlink:href=\"#glyph0-8\" x=\"272.597656\" y=\"484.716797\"/>\n",
       "  <use xlink:href=\"#glyph0-9\" x=\"275.933594\" y=\"484.716797\"/>\n",
       "  <use xlink:href=\"#glyph0-3\" x=\"279.269531\" y=\"484.716797\"/>\n",
       "  <use xlink:href=\"#glyph0-12\" x=\"285.941406\" y=\"484.716797\"/>\n",
       "  <use xlink:href=\"#glyph0-8\" x=\"292.613281\" y=\"484.716797\"/>\n",
       "  <use xlink:href=\"#glyph0-9\" x=\"295.949219\" y=\"484.716797\"/>\n",
       "  <use xlink:href=\"#glyph0-5\" x=\"299.285156\" y=\"484.716797\"/>\n",
       "  <use xlink:href=\"#glyph0-4\" x=\"305.957031\" y=\"484.716797\"/>\n",
       "  <use xlink:href=\"#glyph0-13\" x=\"312.628906\" y=\"484.716797\"/>\n",
       "</g>\n",
       "<g style=\"fill:rgb(0%,0%,0%);fill-opacity:1;\">\n",
       "  <use xlink:href=\"#glyph1-7\" x=\"12.396484\" y=\"413.300781\"/>\n",
       "  <use xlink:href=\"#glyph1-8\" x=\"12.396484\" y=\"407.300781\"/>\n",
       "  <use xlink:href=\"#glyph1-9\" x=\"12.396484\" y=\"403.304688\"/>\n",
       "  <use xlink:href=\"#glyph1-10\" x=\"12.396484\" y=\"399.96875\"/>\n",
       "  <use xlink:href=\"#glyph1-11\" x=\"12.396484\" y=\"397.304688\"/>\n",
       "  <use xlink:href=\"#glyph1-12\" x=\"12.396484\" y=\"387.308594\"/>\n",
       "  <use xlink:href=\"#glyph1-13\" x=\"12.396484\" y=\"380.636719\"/>\n",
       "  <use xlink:href=\"#glyph1-14\" x=\"12.396484\" y=\"377.300781\"/>\n",
       "  <use xlink:href=\"#glyph1-15\" x=\"12.396484\" y=\"370.628906\"/>\n",
       "  <use xlink:href=\"#glyph1-2\" x=\"12.396484\" y=\"367.292969\"/>\n",
       "  <use xlink:href=\"#glyph1-16\" x=\"12.396484\" y=\"360.621094\"/>\n",
       "  <use xlink:href=\"#glyph1-17\" x=\"12.396484\" y=\"357.285156\"/>\n",
       "  <use xlink:href=\"#glyph1-18\" x=\"12.396484\" y=\"353.949219\"/>\n",
       "  <use xlink:href=\"#glyph1-9\" x=\"12.396484\" y=\"350.613281\"/>\n",
       "  <use xlink:href=\"#glyph1-10\" x=\"12.396484\" y=\"347.277344\"/>\n",
       "  <use xlink:href=\"#glyph1-11\" x=\"12.396484\" y=\"344.613281\"/>\n",
       "  <use xlink:href=\"#glyph1-12\" x=\"12.396484\" y=\"334.617188\"/>\n",
       "  <use xlink:href=\"#glyph1-13\" x=\"12.396484\" y=\"327.945312\"/>\n",
       "  <use xlink:href=\"#glyph1-1\" x=\"12.396484\" y=\"324.609375\"/>\n",
       "  <use xlink:href=\"#glyph1-15\" x=\"12.396484\" y=\"317.9375\"/>\n",
       "  <use xlink:href=\"#glyph1-2\" x=\"12.396484\" y=\"314.601562\"/>\n",
       "  <use xlink:href=\"#glyph1-16\" x=\"12.396484\" y=\"307.929688\"/>\n",
       "  <use xlink:href=\"#glyph1-17\" x=\"12.396484\" y=\"304.59375\"/>\n",
       "  <use xlink:href=\"#glyph1-18\" x=\"12.396484\" y=\"301.257812\"/>\n",
       "  <use xlink:href=\"#glyph1-9\" x=\"12.396484\" y=\"297.921875\"/>\n",
       "  <use xlink:href=\"#glyph1-10\" x=\"12.396484\" y=\"294.585938\"/>\n",
       "  <use xlink:href=\"#glyph1-11\" x=\"12.396484\" y=\"291.921875\"/>\n",
       "  <use xlink:href=\"#glyph1-12\" x=\"12.396484\" y=\"281.925781\"/>\n",
       "  <use xlink:href=\"#glyph1-13\" x=\"12.396484\" y=\"275.253906\"/>\n",
       "  <use xlink:href=\"#glyph1-3\" x=\"12.396484\" y=\"271.917969\"/>\n",
       "  <use xlink:href=\"#glyph1-15\" x=\"12.396484\" y=\"265.246094\"/>\n",
       "  <use xlink:href=\"#glyph1-2\" x=\"12.396484\" y=\"261.910156\"/>\n",
       "  <use xlink:href=\"#glyph1-16\" x=\"12.396484\" y=\"255.238281\"/>\n",
       "  <use xlink:href=\"#glyph1-17\" x=\"12.396484\" y=\"251.902344\"/>\n",
       "  <use xlink:href=\"#glyph1-18\" x=\"12.396484\" y=\"248.566406\"/>\n",
       "  <use xlink:href=\"#glyph1-9\" x=\"12.396484\" y=\"245.230469\"/>\n",
       "  <use xlink:href=\"#glyph1-10\" x=\"12.396484\" y=\"241.894531\"/>\n",
       "  <use xlink:href=\"#glyph1-11\" x=\"12.396484\" y=\"239.230469\"/>\n",
       "  <use xlink:href=\"#glyph1-12\" x=\"12.396484\" y=\"229.234375\"/>\n",
       "  <use xlink:href=\"#glyph1-13\" x=\"12.396484\" y=\"222.5625\"/>\n",
       "  <use xlink:href=\"#glyph1-19\" x=\"12.396484\" y=\"219.226562\"/>\n",
       "  <use xlink:href=\"#glyph1-15\" x=\"12.396484\" y=\"212.554688\"/>\n",
       "  <use xlink:href=\"#glyph1-2\" x=\"12.396484\" y=\"209.21875\"/>\n",
       "  <use xlink:href=\"#glyph1-16\" x=\"12.396484\" y=\"202.546875\"/>\n",
       "  <use xlink:href=\"#glyph1-17\" x=\"12.396484\" y=\"199.210938\"/>\n",
       "  <use xlink:href=\"#glyph1-18\" x=\"12.396484\" y=\"195.875\"/>\n",
       "  <use xlink:href=\"#glyph1-9\" x=\"12.396484\" y=\"192.539062\"/>\n",
       "  <use xlink:href=\"#glyph1-10\" x=\"12.396484\" y=\"189.203125\"/>\n",
       "  <use xlink:href=\"#glyph1-11\" x=\"12.396484\" y=\"186.539062\"/>\n",
       "  <use xlink:href=\"#glyph1-12\" x=\"12.396484\" y=\"176.542969\"/>\n",
       "  <use xlink:href=\"#glyph1-13\" x=\"12.396484\" y=\"169.871094\"/>\n",
       "  <use xlink:href=\"#glyph1-14\" x=\"12.396484\" y=\"166.535156\"/>\n",
       "  <use xlink:href=\"#glyph1-5\" x=\"12.396484\" y=\"159.863281\"/>\n",
       "  <use xlink:href=\"#glyph1-15\" x=\"12.396484\" y=\"153.191406\"/>\n",
       "  <use xlink:href=\"#glyph1-2\" x=\"12.396484\" y=\"149.855469\"/>\n",
       "  <use xlink:href=\"#glyph1-16\" x=\"12.396484\" y=\"143.183594\"/>\n",
       "  <use xlink:href=\"#glyph1-17\" x=\"12.396484\" y=\"139.847656\"/>\n",
       "  <use xlink:href=\"#glyph1-18\" x=\"12.396484\" y=\"136.511719\"/>\n",
       "  <use xlink:href=\"#glyph1-9\" x=\"12.396484\" y=\"133.175781\"/>\n",
       "  <use xlink:href=\"#glyph1-10\" x=\"12.396484\" y=\"129.839844\"/>\n",
       "  <use xlink:href=\"#glyph1-11\" x=\"12.396484\" y=\"127.175781\"/>\n",
       "  <use xlink:href=\"#glyph1-12\" x=\"12.396484\" y=\"117.179688\"/>\n",
       "  <use xlink:href=\"#glyph1-13\" x=\"12.396484\" y=\"110.507812\"/>\n",
       "  <use xlink:href=\"#glyph1-2\" x=\"12.396484\" y=\"107.171875\"/>\n",
       "  <use xlink:href=\"#glyph1-1\" x=\"12.396484\" y=\"100.5\"/>\n",
       "  <use xlink:href=\"#glyph1-15\" x=\"12.396484\" y=\"93.828125\"/>\n",
       "  <use xlink:href=\"#glyph1-2\" x=\"12.396484\" y=\"90.492188\"/>\n",
       "  <use xlink:href=\"#glyph1-16\" x=\"12.396484\" y=\"83.820312\"/>\n",
       "  <use xlink:href=\"#glyph1-20\" x=\"12.396484\" y=\"80.484375\"/>\n",
       "</g>\n",
       "</g>\n",
       "</svg>\n"
      ],
      "text/plain": [
       "plot without title"
      ]
     },
     "metadata": {
      "image/svg+xml": {
       "isolated": true
      }
     },
     "output_type": "display_data"
    }
   ],
   "source": [
    "plot(x = c(1,2,4,8,16,32), y=c(time.1[3], time.2[3], time.4[3], time.8[3], time.16[3], time.32[3]))"
   ]
  },
  {
   "cell_type": "code",
   "execution_count": 12,
   "metadata": {
    "collapsed": false
   },
   "outputs": [
    {
     "data": {
      "text/plain": [
       "\n",
       "Iterations = 1001:4125\n",
       "Thinning interval = 1 \n",
       "Number of chains = 32 \n",
       "Sample size per chain = 3125 \n",
       "\n",
       "1. Empirical mean and standard deviation for each variable,\n",
       "   plus standard error of the mean:\n",
       "\n",
       "         Mean     SD Naive SE Time-series SE\n",
       "mu    404.590 0.6566 0.002076       0.002084\n",
       "sigma   6.549 0.4754 0.001503       0.002009\n",
       "y.new 404.563 6.5635 0.020756       0.020744\n",
       "\n",
       "2. Quantiles for each variable:\n",
       "\n",
       "         2.5%     25%     50%     75%   97.5%\n",
       "mu    403.297 404.148 404.593 405.028 405.872\n",
       "sigma   5.702   6.215   6.521   6.852   7.556\n",
       "y.new 391.679 400.164 404.577 408.999 417.461\n"
      ]
     },
     "execution_count": 12,
     "metadata": {},
     "output_type": "execute_result"
    },
    {
     "data": {
      "text/plain": [
       "\n",
       "Iterations = 1001:26000\n",
       "Thinning interval = 1 \n",
       "Number of chains = 4 \n",
       "Sample size per chain = 25000 \n",
       "\n",
       "1. Empirical mean and standard deviation for each variable,\n",
       "   plus standard error of the mean:\n",
       "\n",
       "         Mean     SD Naive SE Time-series SE\n",
       "mu    404.592 0.6562 0.002075       0.002085\n",
       "sigma   6.553 0.4763 0.001506       0.002006\n",
       "y.new 404.610 6.5981 0.020865       0.020865\n",
       "\n",
       "2. Quantiles for each variable:\n",
       "\n",
       "         2.5%    25%     50%     75%   97.5%\n",
       "mu    403.308 404.15 404.592 405.027 405.885\n",
       "sigma   5.698   6.22   6.525   6.854   7.572\n",
       "y.new 391.643 400.20 404.617 409.030 417.550\n"
      ]
     },
     "execution_count": 12,
     "metadata": {},
     "output_type": "execute_result"
    },
    {
     "data": {
      "text/plain": [
       "\n",
       "Iterations = 1001:101000\n",
       "Thinning interval = 1 \n",
       "Number of chains = 1 \n",
       "Sample size per chain = 1e+05 \n",
       "\n",
       "1. Empirical mean and standard deviation for each variable,\n",
       "   plus standard error of the mean:\n",
       "\n",
       "         Mean     SD Naive SE Time-series SE\n",
       "mu    404.588 0.6576 0.002079       0.002079\n",
       "sigma   6.549 0.4739 0.001499       0.001946\n",
       "y.new 404.619 6.6155 0.020920       0.020920\n",
       "\n",
       "2. Quantiles for each variable:\n",
       "\n",
       "         2.5%     25%     50%     75%   97.5%\n",
       "mu    403.302 404.146 404.587 405.031 405.875\n",
       "sigma   5.701   6.218   6.519   6.851   7.551\n",
       "y.new 391.655 400.149 404.615 409.054 417.618\n"
      ]
     },
     "execution_count": 12,
     "metadata": {},
     "output_type": "execute_result"
    }
   ],
   "source": [
    "summary( jags.parsamples.8 )\n",
    "summary( jags.parsamples.4 )\n",
    "# Iterations = 1001:26000\n",
    "# Thinning interval = 1 \n",
    "# Number of chains = 4 \n",
    "# Sample size per chain = 25000 \n",
    "\n",
    "# 1. Empirical mean and standard deviation for each variable,\n",
    "#    plus standard error of the mean:\n",
    "\n",
    "#          Mean     SD Naive SE Time-series SE\n",
    "# mu    404.295 0.4719 0.001492       0.001920\n",
    "# nu      3.637 1.1875 0.003755       0.007821\n",
    "# sigma   3.863 0.4375 0.001384       0.002462\n",
    "# y.new 404.295 6.8578 0.021686       0.021686\n",
    "\n",
    "# 2. Quantiles for each variable:\n",
    "\n",
    "#          2.5%     25%     50%     75%   97.5%\n",
    "# mu    403.374 403.978 404.296 404.611 405.224\n",
    "# nu      2.139   2.804   3.387   4.177   6.638\n",
    "# sigma   3.078   3.558   3.840   4.141   4.793\n",
    "# y.new 392.631 401.356 404.282 407.200 416.000\n",
    "\n",
    "summary( jags.singlesample )\n",
    "# Iterations = 1001:101000\n",
    "# Thinning interval = 1 \n",
    "# Number of chains = 1 \n",
    "# Sample size per chain = 1e+05 \n",
    "\n",
    "# 1. Empirical mean and standard deviation for each variable,\n",
    "#    plus standard error of the mean:\n",
    "\n",
    "#          Mean     SD Naive SE Time-series SE\n",
    "# mu    404.299 0.4731 0.001496       0.001917\n",
    "# nu      3.631 1.1653 0.003685       0.007388\n",
    "# sigma   3.864 0.4348 0.001375       0.002436\n",
    "# y.new 404.315 6.6972 0.021178       0.021178\n",
    "\n",
    "# 2. Quantiles for each variable:\n",
    "\n",
    "#          2.5%     25%     50%     75%   97.5%\n",
    "# mu    403.379 403.980 404.295 404.615 405.236\n",
    "# nu      2.142   2.807   3.387   4.165   6.567\n",
    "# sigma   3.081   3.560   3.841   4.142   4.782\n",
    "# y.new 392.684 401.398 404.307 407.196 416.070"
   ]
  },
  {
   "cell_type": "code",
   "execution_count": 13,
   "metadata": {
    "collapsed": false
   },
   "outputs": [],
   "source": [
    "#plot( jags.parsamples )\n",
    "#xyplot( jags.parsamples[ , c( \"mu\", \"nu\" ) ] )\n",
    "#autocorr.plot( jags.parsamples )"
   ]
  }
 ],
 "metadata": {
  "kernelspec": {
   "display_name": "R 3.3.1",
   "language": "R",
   "name": "r"
  },
  "language_info": {
   "codemirror_mode": "r",
   "file_extension": ".r",
   "mimetype": "text/x-r-source",
   "name": "R",
   "pygments_lexer": "r",
   "version": "3.3.1"
  }
 },
 "nbformat": 4,
 "nbformat_minor": 0
}
