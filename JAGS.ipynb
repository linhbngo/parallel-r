{
 "cells": [
  {
   "cell_type": "markdown",
   "metadata": {
    "collapsed": false
   },
   "source": [
    "Adapted from https://users.soe.ucsc.edu/~draper/eBay-Google-2013-parallel-rjags-example.txt\n",
    "Some helpers and example usage of rjags in parallel mode in R. The output from the foreach functions below give an mcmc object that can be manipulated with the coda package, which is automatically loaded with rjags.\n",
    "\n",
    "The base code is from: http://andrewgelman.com/2011/07/parallel-jags-rngs/ with some updates and a nice combine function. \n",
    "\n",
    "This notebook version comes with instruction on installling the required packages in a non-root environment on Clemson University, and some modifications on the initial source code to deal with the setting of non-variable node. \n",
    "\n",
    "To set up JAGS, download the software, and install it into a predefined directory, in this case */home/lngo/software*:\n",
    "<code>\n",
    "module load gcc/4.8.1\n",
    "tar xzf JAGS-4.2.0.tar.gz\n",
    "cd JAGS-4.2.0\n",
    "./configure --prefix=/home/lngo/software\n",
    "make\n",
    "make install\n",
    "</code>\n",
    "\n",
    "Prior to the launching of the Jupyter server, the Linux shell environment needs to load the environment variables PKG_CONFIG_PATH, which points to */home/lngo/software/JAGS-4.2.0/lib/pkgconfig*, and LD_LIBRARY_PATH, which contains */home/lngo/software/JAGS-4.2.0/lib/*. \n",
    "\n",
    "This can be accomplished by creating a file called R_jupyter.sh that contains the following lines:\n",
    "<code>\n",
    "#!/bin/bash\n",
    "export PKG_CONFIG_PATH=\"/home/lngo/software/JAG-4.2.0/lib/pkgconfig\"\n",
    "export LD_LIBRARY_PATH=\"$LD_LIBRARY_PATH:/home/lngo/software/JAG-4.2.0/lib\"\n",
    "</code>\n",
    "\n",
    "Users then can insert a single line into *.bashrc* to enable this environment:\n",
    "<code>\n",
    "source R_jupyter.sh\n",
    "</code>"
   ]
  },
  {
   "cell_type": "code",
   "execution_count": null,
   "metadata": {
    "collapsed": true
   },
   "outputs": [],
   "source": [
    "# Second, install the following packages into a non-root directory, in this case /home/lngo/R_libs\n",
    "#  doParallel\n",
    "#  rjags\n",
    "#  random\n",
    "\n",
    "install.packages(c(\"rjags\",\"doParallel\",\"random\"), \n",
    "                 lib=\"/home/lngo/R_libs\", \n",
    "                 repos='http://cran.us.r-project.org',\n",
    "                 verbose=TRUE)"
   ]
  },
  {
   "cell_type": "code",
   "execution_count": 1,
   "metadata": {
    "collapsed": false
   },
   "outputs": [
    {
     "name": "stderr",
     "output_type": "stream",
     "text": [
      "Loading required package: foreach\n",
      "Loading required package: iterators\n",
      "Loading required package: parallel\n",
      "Linked to JAGS 4.2.0\n",
      "Loaded modules: basemod,bugs\n"
     ]
    }
   ],
   "source": [
    "# Third, load the installed library. Note that because these libraries are not installed into a default location, the \n",
    "# lib parameter within library also needs to be specified\n",
    "\n",
    "library(doParallel,lib=\"/home/lngo/R_libs\")\n",
    "library(coda,lib=\"/home/lngo/R_libs\")\n",
    "library(rjags,lib=\"/home/lngo/R_libs\")\n",
    "library(random,lib=\"/home/lngo/R_libs\")"
   ]
  },
  {
   "cell_type": "code",
   "execution_count": 2,
   "metadata": {
    "collapsed": true
   },
   "outputs": [],
   "source": [
    "# Function to generate the initial values and random seeds for each model. tau = 0.05 in old version\n",
    "nb10.inits.1 <- function( ) {\n",
    "  return( list( mu = 404.59, nu = 5.0, y.new = 400.0, \n",
    "    .RNG.name = \"lecuyer::RngStream\", \n",
    "    .RNG.seed = randomNumbers( n = 1, min = 1, max = 1e+06, col = 1 ) ) )\n",
    "}\n",
    "# Data to use\n",
    "nb10.data.1 <- list( \n",
    "  y = c( 409., 400., 406., 399., 402., 406., 401., 403., 401., 403.,\n",
    "         398., 403., 407., 402., 401., 399., 400., 401., 405., 402., \n",
    "         408., 399., 399., 402., 399., 397., 407., 401., 399., 401., \n",
    "         403., 400., 410., 401., 407., 423., 406., 406., 402., 405., \n",
    "         405., 409., 399., 402., 407., 406., 413., 409., 404., 402., \n",
    "         404., 406., 407., 405., 411., 410., 410., 410., 401., 402., \n",
    "         404., 405., 392., 407., 406., 404., 403., 408., 404., 407., \n",
    "         412., 406., 409., 400., 408., 404., 401., 404., 408., 406., \n",
    "         408., 406., 401., 412., 393., 437., 418., 415., 404., 401., \n",
    "         401., 407., 412., 375., 409., 406., 398., 406., 403., 404.), \n",
    "  n = 100 )\n",
    "\n",
    "# Helper function to combine multiple mcmc lists into a single one. \n",
    "mcmc.combine <- function( ... ) {\n",
    "  return( as.mcmc.list( sapply( list( ... ), mcmc ) ) )\n",
    "}"
   ]
  },
  {
   "cell_type": "code",
   "execution_count": 3,
   "metadata": {
    "collapsed": false
   },
   "outputs": [
    {
     "name": "stdout",
     "output_type": "stream",
     "text": [
      "   user  system elapsed \n",
      "  7.794   0.331   3.205 \n"
     ]
    }
   ],
   "source": [
    "# Usage example with some timing to see how much speedup we get with \n",
    "# parallel runs. On Chris Severs's machine the time difference is about 3x;\n",
    "# on my machine it's about 3.6 \n",
    "\n",
    "# Multi-threaded run (assuming 8 chains)\n",
    "registerDoParallel(8) \n",
    "iters <- 12500\n",
    "\n",
    "time.1 <- system.time(\n",
    "  jags.parsamples.8 <- foreach( i = 1:getDoParWorkers( ), .inorder = FALSE, \n",
    "    .packages = c( 'rjags', 'random' ), .combine = \"mcmc.combine\", \n",
    "    .multicombine = TRUE ) %dopar% {\n",
    "      load.module( \"lecuyer\" )\n",
    "      model.file <- \"nb10-model-1.txt\"\n",
    "      model.jags <- jags.model(data = nb10.data.1,file = model.file,inits = nb10.inits.1)\n",
    "      result <- coda.samples( model.jags, variable.names = c(\"mu\",\"sigma\",\"nu\",\"y.new\"),n.iter = iters )\n",
    "    return(result)\n",
    "  }\n",
    ")\n",
    "\n",
    "print( time.1 )\n",
    " "
   ]
  },
  {
   "cell_type": "code",
   "execution_count": 4,
   "metadata": {
    "collapsed": false
   },
   "outputs": [
    {
     "name": "stdout",
     "output_type": "stream",
     "text": [
      "   user  system elapsed \n",
      " 13.429   0.331   3.668 \n"
     ]
    }
   ],
   "source": [
    "# Multi-threaded run (assuming 4 chains)\n",
    "registerDoParallel(4) \n",
    "iters <- 25000\n",
    "\n",
    "time.2 <- system.time(\n",
    "  jags.parsamples.4 <- foreach( i = 1:getDoParWorkers( ), .inorder = FALSE, \n",
    "    .packages = c( 'rjags', 'random' ), .combine = \"mcmc.combine\", \n",
    "    .multicombine = TRUE ) %dopar% {\n",
    "      load.module( \"lecuyer\" )\n",
    "      model.file <- \"nb10-model-1.txt\"\n",
    "      model.jags <- jags.model(data = nb10.data.1,file = model.file,inits = nb10.inits.1)\n",
    "      result <- coda.samples( model.jags, variable.names = c(\"mu\",\"sigma\",\"nu\",\"y.new\"),n.iter = iters )\n",
    "    return(result)\n",
    "  }\n",
    ")\n",
    "\n",
    "print( time.2 )\n",
    " "
   ]
  },
  {
   "cell_type": "code",
   "execution_count": 5,
   "metadata": {
    "collapsed": false
   },
   "outputs": [
    {
     "name": "stderr",
     "output_type": "stream",
     "text": [
      "module lecuyer loaded\n"
     ]
    },
    {
     "name": "stdout",
     "output_type": "stream",
     "text": [
      "Compiling model graph\n",
      "   Resolving undeclared variables\n",
      "   Allocating nodes\n",
      "Graph information:\n",
      "   Observed stochastic nodes: 100\n",
      "   Unobserved stochastic nodes: 3\n",
      "   Total graph size: 112\n",
      "\n"
     ]
    },
    {
     "name": "stderr",
     "output_type": "stream",
     "text": [
      "Warning message:\n",
      "In jags.model(data = nb10.data.1, file = \"nb10-model-1.txt\", inits = nb10.inits.1): Unused initial value for \"nu\" in chain 1"
     ]
    },
    {
     "name": "stdout",
     "output_type": "stream",
     "text": [
      "Initializing model\n",
      "\n"
     ]
    },
    {
     "name": "stderr",
     "output_type": "stream",
     "text": [
      "Warning message:\n",
      "In jags.samples(model, variable.names, n.iter, thin, type = \"trace\", : Failed to set trace monitor for nu\n",
      "Variable nu not found\n"
     ]
    },
    {
     "name": "stdout",
     "output_type": "stream",
     "text": [
      "   user  system elapsed \n",
      " 11.164   0.025  11.790 \n"
     ]
    }
   ],
   "source": [
    "# Single-threaded run\n",
    "iters <- 100000\n",
    "time.3 <- system.time(\n",
    "  jags.singlesample <- foreach( i = 1:1, .combine = \"mcmc.combine\", \n",
    "    .multicombine = TRUE) %do% {\n",
    "    load.module(\"lecuyer\")\n",
    "    model.jags <- jags.model( data = nb10.data.1, file = \"nb10-model-1.txt\", \n",
    "      inits = nb10.inits.1 )\n",
    "    result <- coda.samples( model.jags, variable.names = c(\"mu\",\"sigma\",\"nu\", \"y.new\"), n.iter = iters )\n",
    "    return( result )\n",
    "  }\n",
    ")\n",
    "print( time.3 )"
   ]
  },
  {
   "cell_type": "code",
   "execution_count": 6,
   "metadata": {
    "collapsed": false
   },
   "outputs": [
    {
     "data": {
      "text/plain": [
       "\n",
       "Iterations = 1001:13500\n",
       "Thinning interval = 1 \n",
       "Number of chains = 8 \n",
       "Sample size per chain = 12500 \n",
       "\n",
       "1. Empirical mean and standard deviation for each variable,\n",
       "   plus standard error of the mean:\n",
       "\n",
       "         Mean     SD Naive SE Time-series SE\n",
       "mu    404.589 0.6571 0.002078       0.002075\n",
       "sigma   6.549 0.4742 0.001499       0.001949\n",
       "y.new 404.581 6.5674 0.020768       0.020718\n",
       "\n",
       "2. Quantiles for each variable:\n",
       "\n",
       "         2.5%     25%     50%    75%   97.5%\n",
       "mu    403.297 404.149 404.586 405.03 405.883\n",
       "sigma   5.697   6.218   6.523   6.85   7.555\n",
       "y.new 391.727 400.156 404.577 409.01 417.427\n"
      ]
     },
     "execution_count": 6,
     "metadata": {},
     "output_type": "execute_result"
    },
    {
     "data": {
      "text/plain": [
       "\n",
       "Iterations = 1001:26000\n",
       "Thinning interval = 1 \n",
       "Number of chains = 4 \n",
       "Sample size per chain = 25000 \n",
       "\n",
       "1. Empirical mean and standard deviation for each variable,\n",
       "   plus standard error of the mean:\n",
       "\n",
       "         Mean     SD Naive SE Time-series SE\n",
       "mu    404.592 0.6582 0.002082       0.002076\n",
       "sigma   6.552 0.4736 0.001498       0.001998\n",
       "y.new 404.594 6.5903 0.020840       0.020841\n",
       "\n",
       "2. Quantiles for each variable:\n",
       "\n",
       "         2.5%     25%     50%     75%   97.5%\n",
       "mu    403.304 404.151 404.592 405.032 405.886\n",
       "sigma   5.703   6.222   6.524   6.851   7.561\n",
       "y.new 391.594 400.179 404.612 409.000 417.520\n"
      ]
     },
     "execution_count": 6,
     "metadata": {},
     "output_type": "execute_result"
    },
    {
     "data": {
      "text/plain": [
       "\n",
       "Iterations = 1001:101000\n",
       "Thinning interval = 1 \n",
       "Number of chains = 1 \n",
       "Sample size per chain = 1e+05 \n",
       "\n",
       "1. Empirical mean and standard deviation for each variable,\n",
       "   plus standard error of the mean:\n",
       "\n",
       "         Mean     SD Naive SE Time-series SE\n",
       "mu    404.591 0.6585 0.002082       0.002082\n",
       "sigma   6.552 0.4754 0.001503       0.001973\n",
       "y.new 404.575 6.5923 0.020847       0.020847\n",
       "\n",
       "2. Quantiles for each variable:\n",
       "\n",
       "         2.5%     25%     50%     75%   97.5%\n",
       "mu    403.305 404.150 404.590 405.030 405.887\n",
       "sigma   5.702   6.218   6.523   6.854   7.562\n",
       "y.new 391.595 400.172 404.589 409.009 417.511\n"
      ]
     },
     "execution_count": 6,
     "metadata": {},
     "output_type": "execute_result"
    }
   ],
   "source": [
    "summary( jags.parsamples.8 )\n",
    "\n",
    "summary( jags.parsamples.4 )\n",
    "# Iterations = 1001:26000\n",
    "# Thinning interval = 1 \n",
    "# Number of chains = 4 \n",
    "# Sample size per chain = 25000 \n",
    "\n",
    "# 1. Empirical mean and standard deviation for each variable,\n",
    "#    plus standard error of the mean:\n",
    "\n",
    "#          Mean     SD Naive SE Time-series SE\n",
    "# mu    404.295 0.4719 0.001492       0.001920\n",
    "# nu      3.637 1.1875 0.003755       0.007821\n",
    "# sigma   3.863 0.4375 0.001384       0.002462\n",
    "# y.new 404.295 6.8578 0.021686       0.021686\n",
    "\n",
    "# 2. Quantiles for each variable:\n",
    "\n",
    "#          2.5%     25%     50%     75%   97.5%\n",
    "# mu    403.374 403.978 404.296 404.611 405.224\n",
    "# nu      2.139   2.804   3.387   4.177   6.638\n",
    "# sigma   3.078   3.558   3.840   4.141   4.793\n",
    "# y.new 392.631 401.356 404.282 407.200 416.000\n",
    "\n",
    "summary( jags.singlesample )\n",
    "# Iterations = 1001:101000\n",
    "# Thinning interval = 1 \n",
    "# Number of chains = 1 \n",
    "# Sample size per chain = 1e+05 \n",
    "\n",
    "# 1. Empirical mean and standard deviation for each variable,\n",
    "#    plus standard error of the mean:\n",
    "\n",
    "#          Mean     SD Naive SE Time-series SE\n",
    "# mu    404.299 0.4731 0.001496       0.001917\n",
    "# nu      3.631 1.1653 0.003685       0.007388\n",
    "# sigma   3.864 0.4348 0.001375       0.002436\n",
    "# y.new 404.315 6.6972 0.021178       0.021178\n",
    "\n",
    "# 2. Quantiles for each variable:\n",
    "\n",
    "#          2.5%     25%     50%     75%   97.5%\n",
    "# mu    403.379 403.980 404.295 404.615 405.236\n",
    "# nu      2.142   2.807   3.387   4.165   6.567\n",
    "# sigma   3.081   3.560   3.841   4.142   4.782\n",
    "# y.new 392.684 401.398 404.307 407.196 416.070"
   ]
  },
  {
   "cell_type": "code",
   "execution_count": null,
   "metadata": {
    "collapsed": false
   },
   "outputs": [],
   "source": [
    "#plot( jags.parsamples )\n",
    "#xyplot( jags.parsamples[ , c( \"mu\", \"nu\" ) ] )\n",
    "#autocorr.plot( jags.parsamples )"
   ]
  }
 ],
 "metadata": {
  "kernelspec": {
   "display_name": "R 3.3.1",
   "language": "R",
   "name": "r"
  },
  "language_info": {
   "codemirror_mode": "r",
   "file_extension": ".r",
   "mimetype": "text/x-r-source",
   "name": "R",
   "pygments_lexer": "r",
   "version": "3.3.1"
  }
 },
 "nbformat": 4,
 "nbformat_minor": 0
}
